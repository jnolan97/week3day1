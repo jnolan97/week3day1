{
 "cells": [
  {
   "cell_type": "markdown",
   "metadata": {},
   "source": [
    "# Advanced Object-Oriented-Programming (OOP)"
   ]
  },
  {
   "cell_type": "markdown",
   "metadata": {},
   "source": [
    "## Tasks Today:\n",
    "\n",
    "1) <b>Creating Multiple Instances Through Loops</b> <br>\n",
    " &nbsp;&nbsp;&nbsp;&nbsp; a) Using Loops <br>\n",
    " &nbsp;&nbsp;&nbsp;&nbsp; b) Using Multiple Lists with Loops <br>\n",
    " &nbsp;&nbsp;&nbsp;&nbsp; c) Using List Comprehension with Classes<br>\n",
    " &nbsp;&nbsp;&nbsp;&nbsp; d) In-Class Exercise #1 <br>\n",
    "2) <b>Magic Methods</b> <br>\n",
    " &nbsp;&nbsp;&nbsp;&nbsp; a) \\__str\\__ <br>\n",
    " &nbsp;&nbsp;&nbsp;&nbsp; b) \\__add\\__ <br>\n",
    " &nbsp;&nbsp;&nbsp;&nbsp; c) Overriding Magic Methods <br>\n",
    " &nbsp;&nbsp;&nbsp;&nbsp; d) In-Class Exercise #2 <br>\n",
    "3) <b>Inheritance & Method Overriding (recap)</b> <br>\n",
    " &nbsp;&nbsp;&nbsp;&nbsp; a) Inheriting (recap)  <br>\n",
    " &nbsp;&nbsp;&nbsp;&nbsp; b) Overriding Inherited Magic Methods <br>\n",
    " &nbsp;&nbsp;&nbsp;&nbsp; c) Inheriting Multiple Classes <br>\n",
    " &nbsp;&nbsp;&nbsp;&nbsp; d) In-Class Exercise #3 <br>"
   ]
  },
  {
   "cell_type": "markdown",
   "metadata": {},
   "source": [
    "## Creating Multiple Instances Through Loops <br>\n",
    "<p>We can use loops to create multiple instances of a single object in just a couple of lines, even just one line.</p>"
   ]
  },
  {
   "cell_type": "markdown",
   "metadata": {},
   "source": [
    "#### Using Loops"
   ]
  },
  {
   "cell_type": "code",
   "execution_count": 9,
   "metadata": {},
   "outputs": [
    {
     "name": "stdout",
     "output_type": "stream",
     "text": [
      "Lassie has 4 legs\n",
      "Max has 4 legs\n",
      "max has 0 legs\n",
      "max has 1 legs\n",
      "max has 2 legs\n",
      "max has 3 legs\n",
      "max has 4 legs\n"
     ]
    }
   ],
   "source": [
    "class Dog():\n",
    "    def __init__(self,name,legs):\n",
    "        self.name = name\n",
    "        self.legs = legs\n",
    "    def printInfo(self):\n",
    "        print(f\"{self.name} has {self.legs} legs\")\n",
    "dog1 = Dog(\"Lassie\", 4)\n",
    "dog2 = Dog(\"Max\",4)\n",
    "dog1.printInfo()\n",
    "dog2.printInfo()\n",
    "dogs = []\n",
    "for i in range(5):\n",
    "    dogs.append(Dog(\"max\",i))\n",
    "for i in range(len(dogs)):\n",
    "    dogs[i].printInfo()"
   ]
  },
  {
   "cell_type": "markdown",
   "metadata": {},
   "source": [
    "#### Using Multiple Lists with Loops"
   ]
  },
  {
   "cell_type": "code",
   "execution_count": 7,
   "metadata": {},
   "outputs": [
    {
     "name": "stdout",
     "output_type": "stream",
     "text": [
      "max has 4 legs\n",
      "sam has 4 legs\n",
      "clifford has 4 legs\n",
      "lassie has 4 legs\n",
      "butch has 4 legs\n"
     ]
    }
   ],
   "source": [
    "names = [\"max\",\"sam\",\"clifford\",'lassie','butch']\n",
    "dogs_list = []\n",
    "for i in range(len(names)):\n",
    "    dogs_list.append(Dog(names[i],4))\n",
    "for i in range(len(dogs)):\n",
    "    dogs_list[i].printInfo()"
   ]
  },
  {
   "cell_type": "markdown",
   "metadata": {},
   "source": [
    "#### Using List Comprehension with Classes"
   ]
  },
  {
   "cell_type": "code",
   "execution_count": 11,
   "metadata": {},
   "outputs": [
    {
     "name": "stdout",
     "output_type": "stream",
     "text": [
      "max has 4 legs\n",
      "sam has 4 legs\n",
      "clifford has 4 legs\n",
      "lassie has 4 legs\n",
      "butch has 4 legs\n"
     ]
    }
   ],
   "source": [
    "dogs = [Dog(names[i],4) for i in range(len(names))]\n",
    "for dog in dogs:\n",
    "    dog.printInfo()"
   ]
  },
  {
   "cell_type": "markdown",
   "metadata": {},
   "source": [
    "#### In-Class Exercise #1 - Use List Comprehension to create multiple 'Dog' objects using the lists below... <br>\n",
    "<p>names = ['max', 'lassy', 'sammi']<br>colors=['brown', 'black', 'mix']</p>"
   ]
  },
  {
   "cell_type": "code",
   "execution_count": 13,
   "metadata": {},
   "outputs": [
    {
     "name": "stdout",
     "output_type": "stream",
     "text": [
      "max is the color brown\n",
      "lassy is the color black\n",
      "sammi is the color mix\n"
     ]
    }
   ],
   "source": [
    "names = ['max','lassy','sammi']\n",
    "colors = ['brown','black','mix']\n",
    "# my_list = [Dog(names[i],4) for i in range(len(names))]\n",
    "# for dog in my_list:\n",
    "#     dog.printInfo()\n",
    "# a_list = [Dog(colors[i],4) for i in range(len(colors))]\n",
    "# for dog in a_list:\n",
    "#     dog.printInfo()\n",
    "class Dog():\n",
    "    def __init__(self,name,color):\n",
    "        self.name = name\n",
    "        self.color = color\n",
    "    def printInfo(self):\n",
    "        print(f\"{self.name} is the color {self.color}\")\n",
    "dogs = [Dog(names[i],colors[i]) for i in range(len(names))]\n",
    "for dog in dogs:\n",
    "    dog.printInfo()"
   ]
  },
  {
   "cell_type": "markdown",
   "metadata": {},
   "source": [
    "## Magic Methods <br>\n",
    "<p>Magic methods are any method that begins and ends with two underscores... You've already seen one of them in __init__(). Magic methods are the general functionality of an object, and you have the ability to overwrite what those methods do, giving you flexibility in your program.</p>"
   ]
  },
  {
   "cell_type": "markdown",
   "metadata": {},
   "source": [
    "#### \\__str\\__ <br>\n",
    "<p>This is the output of an object when you print the object itself.</p>"
   ]
  },
  {
   "cell_type": "code",
   "execution_count": 15,
   "metadata": {},
   "outputs": [
    {
     "name": "stdout",
     "output_type": "stream",
     "text": [
      "Jack is 27 years old and has 10 toes\n"
     ]
    }
   ],
   "source": [
    "class Person():\n",
    "    def __init__(self,name,age,number_of_toes):\n",
    "        self.name = name\n",
    "        self.age = age\n",
    "        self.number_of_toes = number_of_toes\n",
    "    def __str__(self):\n",
    "        return f\"{self.name} is {self.age} years old and has {self.number_of_toes} toes\"\n",
    "jack = Person(\"Jack\",\"27\",\"10\")\n",
    "print(jack)"
   ]
  },
  {
   "cell_type": "markdown",
   "metadata": {},
   "source": [
    "#### \\__add\\__"
   ]
  },
  {
   "cell_type": "code",
   "execution_count": 18,
   "metadata": {},
   "outputs": [
    {
     "name": "stdout",
     "output_type": "stream",
     "text": [
      "44\n"
     ]
    }
   ],
   "source": [
    "class Cat():\n",
    "    def __init__(self,name,color,legs):\n",
    "        self.name = name\n",
    "        self.color = color\n",
    "        self.legs = legs\n",
    "    def __add__(self,extra_legs):\n",
    "        if type(extra_legs) != int:\n",
    "            return self.legs + extra_legs.legs\n",
    "        else:\n",
    "            return self.legs + extra_legs\n",
    "cat1 = Cat(\"Max\",\"mixed\",\"4\")\n",
    "cat2 = Cat(\"Garfield\",\"Orange\",\"4\")\n",
    "num_legs = cat1 +cat2\n",
    "print(num_legs)"
   ]
  },
  {
   "cell_type": "markdown",
   "metadata": {},
   "source": [
    "#### Overriding Magic Methods"
   ]
  },
  {
   "cell_type": "code",
   "execution_count": null,
   "metadata": {},
   "outputs": [],
   "source": [
    "# see above"
   ]
  },
  {
   "cell_type": "markdown",
   "metadata": {},
   "source": [
    "#### In-Class Exercise #2 - Google another magic method and overwrite it's functionality..."
   ]
  },
  {
   "cell_type": "code",
   "execution_count": 22,
   "metadata": {},
   "outputs": [
    {
     "ename": "TypeError",
     "evalue": "unsupported operand type(s) for +: 'Magic' and 'Magic'",
     "output_type": "error",
     "traceback": [
      "\u001b[1;31m---------------------------------------------------------------------------\u001b[0m",
      "\u001b[1;31mTypeError\u001b[0m                                 Traceback (most recent call last)",
      "\u001b[1;32m<ipython-input-22-9e8d9615ad8a>\u001b[0m in \u001b[0;36m<module>\u001b[1;34m\u001b[0m\n\u001b[0;32m      6\u001b[0m \u001b[0mtest\u001b[0m \u001b[1;33m=\u001b[0m \u001b[0mMagic\u001b[0m\u001b[1;33m(\u001b[0m\u001b[1;36m4\u001b[0m\u001b[1;33m)\u001b[0m\u001b[1;33m\u001b[0m\u001b[1;33m\u001b[0m\u001b[0m\n\u001b[0;32m      7\u001b[0m \u001b[0mtest1\u001b[0m \u001b[1;33m=\u001b[0m \u001b[0mMagic\u001b[0m\u001b[1;33m(\u001b[0m\u001b[1;33m-\u001b[0m\u001b[1;36m4\u001b[0m\u001b[1;33m)\u001b[0m\u001b[1;33m\u001b[0m\u001b[1;33m\u001b[0m\u001b[0m\n\u001b[1;32m----> 8\u001b[1;33m \u001b[0madder\u001b[0m \u001b[1;33m=\u001b[0m \u001b[0mtest\u001b[0m \u001b[1;33m+\u001b[0m \u001b[0mtest1\u001b[0m\u001b[1;33m\u001b[0m\u001b[1;33m\u001b[0m\u001b[0m\n\u001b[0m\u001b[0;32m      9\u001b[0m \u001b[0mprint\u001b[0m\u001b[1;33m(\u001b[0m\u001b[0madder\u001b[0m\u001b[1;33m)\u001b[0m\u001b[1;33m\u001b[0m\u001b[1;33m\u001b[0m\u001b[0m\n",
      "\u001b[1;31mTypeError\u001b[0m: unsupported operand type(s) for +: 'Magic' and 'Magic'"
     ]
    }
   ],
   "source": [
    "class Magic():\n",
    "    def __init__(self,number):\n",
    "        self.number = number\n",
    "    def __abs__(self,num2):\n",
    "        return self.number + num2\n",
    "test = Magic(4)\n",
    "test1 = Magic(-4)\n",
    "adder = test + test1\n",
    "print(adder)"
   ]
  },
  {
   "cell_type": "markdown",
   "metadata": {},
   "source": [
    "## Inheritance & Method Overriding (recap)"
   ]
  },
  {
   "cell_type": "markdown",
   "metadata": {},
   "source": [
    "#### Inheriting (recap)"
   ]
  },
  {
   "cell_type": "code",
   "execution_count": 25,
   "metadata": {},
   "outputs": [
    {
     "name": "stdout",
     "output_type": "stream",
     "text": [
      "This is Mammal\n",
      "Frank is apart of the mammal species\n"
     ]
    }
   ],
   "source": [
    "class Animal():\n",
    "    def __init__(self,species):\n",
    "        self.species = species\n",
    "    def __str__(self):\n",
    "        return f\"This is {self.species}\"\n",
    "class Dog(Animal):\n",
    "    def __init__(self,name,species):\n",
    "        self.name = name\n",
    "        Animal.__init__(self,species) #super().__init__(species)\n",
    "    def __str__(self):\n",
    "        return f\"{self.name} is apart of the {self.species} species\"\n",
    "mammal = Animal(\"Mammal\")\n",
    "dog = Dog(\"Frank\",\"mammal\")\n",
    "print(mammal)\n",
    "print(dog)"
   ]
  },
  {
   "cell_type": "markdown",
   "metadata": {},
   "source": [
    "#### Overriding Inherited Magic Methods"
   ]
  },
  {
   "cell_type": "code",
   "execution_count": null,
   "metadata": {},
   "outputs": [],
   "source": [
    "# see above"
   ]
  },
  {
   "cell_type": "markdown",
   "metadata": {},
   "source": [
    "#### Inheriting Multiple Classes"
   ]
  },
  {
   "cell_type": "code",
   "execution_count": 27,
   "metadata": {},
   "outputs": [
    {
     "name": "stdout",
     "output_type": "stream",
     "text": [
      "Bobby is apart of the canine species and runs 30 mph\n"
     ]
    }
   ],
   "source": [
    "class Physics():\n",
    "    def __init__(self,speed):\n",
    "        self.gravity = 9.8\n",
    "        self.speed = speed\n",
    "class Animal():\n",
    "    def __init__(self,species):\n",
    "        self.species = species\n",
    "    def __str__(self):\n",
    "        return f\"This is a {self.species}\"\n",
    "class Dog(Animal,Physics):\n",
    "    def __init__(self,species,name,speed):\n",
    "        self.name = name\n",
    "        Animal.__init__(self,species)\n",
    "        Physics.__init__(self,speed)\n",
    "    def __str__(self):\n",
    "        return f\"{self.name} is apart of the {self.species} species and runs {self.speed} mph\"\n",
    "dog1 = Dog(\"canine\",\"Bobby\",30)\n",
    "print(dog1)"
   ]
  },
  {
   "cell_type": "markdown",
   "metadata": {},
   "source": [
    "#### Homework Excersise - Create a transportation class, a physics class, and a bus class <br>\n",
    "<p>Create a transportation class, a physics class, and a bus class... Have the Bus class inherit both the transportation class and physics class. The physics class should have an attribute of speed, and print out the speed, plus have an acceleration method. The transportation class should have a 'type_of_transportation' attribute, and print the type(type_of_transportation [i.e road/air]) that is being used. The bus class should have attributes that describe the bus, such as; wheels, color, size, etc. Overwrite the __str__ method so that when you print the object, it prints out the bus information, and the speed.</p>"
   ]
  },
  {
   "cell_type": "code",
   "execution_count": 40,
   "metadata": {},
   "outputs": [
    {
     "name": "stdout",
     "output_type": "stream",
     "text": [
      "Bus travels by road has 4 wheels is the color yellow and goes at 30 mph\n"
     ]
    }
   ],
   "source": [
    "# class Transportation():\n",
    "#     def __init__(self,type_of_transportation):\n",
    "#         self.type_of_transportation = type_of_transportation\n",
    "#     def __str__(self):\n",
    "#         return f\"This is a {self.type_of_transportation}\"\n",
    "# class Physics():\n",
    "#     def __init__(self,speed):\n",
    "#         self.speed = speed\n",
    "#     def acceleration(self,speed):\n",
    "#         return 9.8*self.speed\n",
    "# class Bus(Transportation,Physics):\n",
    "#     def __init__(self,type_of_transportation,speed,wheels,color):\n",
    "#         self.wheels = wheels\n",
    "#         self.color = color\n",
    "#         Physics.__init__(self,speed)\n",
    "#         Transportation.__init__(self,type_of_transportation)\n",
    "#     def __str__(self):\n",
    "#         return f\"{type_of_transportation} has {self.wheels} wheels and is {self.color} it goes {self.speed}\"\n",
    "# bus1 = Bus(\"Bus\",4,\"yellow\",10)\n",
    "# print(bus1)\n",
    "class Physics():\n",
    "    def __init__(self,speed):\n",
    "        self.gravity = 9.8\n",
    "        self.speed = speed\n",
    "    def acceleration(self):\n",
    "        return self.gravity * self.speed\n",
    "class Transportation():\n",
    "    def __init__(self,kind):\n",
    "        self.kind = kind\n",
    "    def __str__(self):\n",
    "        return f\"This is a {self.kind}\"\n",
    "class Bus(Transportation,Physics):\n",
    "    def __init__(self,kind,name,speed,wheels,color):\n",
    "        self.name = name\n",
    "        self.wheels = wheels\n",
    "        self.color = color\n",
    "        Transportation.__init__(self,kind)\n",
    "        Physics.__init__(self,speed)\n",
    "    def __str__(self):\n",
    "        return f\"{self.name} travels by {self.kind} has {self.wheels} wheels is the color {self.color} and goes at {self.speed} mph\"\n",
    "bus1 = Bus(\"road\",\"Bus\",30,4,\"yellow\")\n",
    "print(bus1)"
   ]
  },
  {
   "cell_type": "code",
   "execution_count": null,
   "metadata": {},
   "outputs": [],
   "source": []
  }
 ],
 "metadata": {
  "kernelspec": {
   "display_name": "Python 3",
   "language": "python",
   "name": "python3"
  },
  "language_info": {
   "codemirror_mode": {
    "name": "ipython",
    "version": 3
   },
   "file_extension": ".py",
   "mimetype": "text/x-python",
   "name": "python",
   "nbconvert_exporter": "python",
   "pygments_lexer": "ipython3",
   "version": "3.8.2"
  }
 },
 "nbformat": 4,
 "nbformat_minor": 2
}
